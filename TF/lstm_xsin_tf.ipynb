{
 "cells": [
  {
   "cell_type": "code",
   "execution_count": 1,
   "metadata": {
    "collapsed": true
   },
   "outputs": [],
   "source": [
    "%matplotlib inline\n",
    "import numpy as np\n",
    "import pandas as pd\n",
    "import tensorflow as tf\n",
    "from matplotlib import pyplot as plt\n",
    "\n",
    "from tensorflow.contrib import learn\n",
    "from sklearn.metrics import mean_squared_error\n",
    "\n",
    "from lstm import lstm_model\n",
    "from data_processing import x_sin, generate_data"
   ]
  },
  {
   "cell_type": "code",
   "execution_count": 14,
   "metadata": {
    "collapsed": true
   },
   "outputs": [],
   "source": [
    "LOG_DIR = './ops_logs/x_sin'\n",
    "TIMESTEPS = 10\n",
    "RNN_LAYERS = [{'num_units': 10}, {'num_units':5}] # can't reduce it to 1 or it'll fail\n",
    "DENSE_LAYERS = None\n",
    "TRAINING_STEPS = 10000\n",
    "PRINT_STEPS = TRAINING_STEPS / 10\n",
    "BATCH_SIZE = 100\n",
    "LEARNING_RATE = 0.1"
   ]
  },
  {
   "cell_type": "code",
   "execution_count": 10,
   "metadata": {
    "collapsed": true
   },
   "outputs": [],
   "source": [
    "X, y = generate_data(x_sin, np.linspace(0, 100, 10000, dtype=np.float32), TIMESTEPS, seperate=False)"
   ]
  },
  {
   "cell_type": "code",
   "execution_count": 11,
   "metadata": {},
   "outputs": [
    {
     "name": "stdout",
     "output_type": "stream",
     "text": [
      "(8090, 10, 1)\n",
      "(8090, 1)\n"
     ]
    }
   ],
   "source": [
    "print(X['train'].shape)\n",
    "print(y['train'].shape)"
   ]
  },
  {
   "cell_type": "code",
   "execution_count": 12,
   "metadata": {},
   "outputs": [
    {
     "name": "stdout",
     "output_type": "stream",
     "text": [
      "INFO:tensorflow:Using default config.\n",
      "INFO:tensorflow:Using config: {'_task_type': None, '_task_id': 0, '_cluster_spec': <tensorflow.python.training.server_lib.ClusterSpec object at 0x7f7cd013d668>, '_master': '', '_num_ps_replicas': 0, '_num_worker_replicas': 0, '_environment': 'local', '_is_chief': True, '_evaluation_master': '', '_tf_config': gpu_options {\n",
      "  per_process_gpu_memory_fraction: 1.0\n",
      "}\n",
      ", '_tf_random_seed': None, '_save_summary_steps': 100, '_save_checkpoints_secs': 600, '_log_step_count_steps': 100, '_session_config': None, '_save_checkpoints_steps': None, '_keep_checkpoint_max': 5, '_keep_checkpoint_every_n_hours': 10000, '_model_dir': './ops_logs/x_sin'}\n"
     ]
    }
   ],
   "source": [
    "#validation_monitor = learn.monitors.ValidationMonitor(X['val'], y['val'], \n",
    "#                                                      every_n_steps=PRINT_STEPS, \n",
    "#                                                      early_stopping_rounds=1000)\n",
    "regressor = tf.contrib.learn.SKCompat(tf.contrib.learn.Estimator(model_fn=lstm_model(TIMESTEPS, RNN_LAYERS, DENSE_LAYERS),\n",
    "                            model_dir=LOG_DIR))\n",
    "#regressor = tf.estimator.Estimator(model_fn=lstm_model(TIMESTEPS, RNN_LAYERS, DENSE_LAYERS),\n",
    "#                                  model_dir=LOG_DIR) # doesn't work?"
   ]
  },
  {
   "cell_type": "code",
   "execution_count": 13,
   "metadata": {},
   "outputs": [
    {
     "name": "stdout",
     "output_type": "stream",
     "text": [
      "WARNING:tensorflow:From /remote/us01home29/yuwang/anaconda3/lib/python3.6/site-packages/tensorflow/contrib/learn/python/learn/models.py:107: mean_squared_error_regressor (from tensorflow.contrib.learn.python.learn.ops.losses_ops) is deprecated and will be removed after 2016-12-01.\n",
      "Instructions for updating:\n",
      "Use `tf.contrib.losses.mean_squared_error` and explicit logits computation.\n",
      "WARNING:tensorflow:From /remote/us01home29/yuwang/anaconda3/lib/python3.6/site-packages/tensorflow/contrib/learn/python/learn/ops/losses_ops.py:39: mean_squared_error (from tensorflow.contrib.losses.python.losses.loss_ops) is deprecated and will be removed after 2016-12-30.\n",
      "Instructions for updating:\n",
      "Use tf.losses.mean_squared_error instead.\n",
      "WARNING:tensorflow:From /remote/us01home29/yuwang/anaconda3/lib/python3.6/site-packages/tensorflow/contrib/losses/python/losses/loss_ops.py:539: compute_weighted_loss (from tensorflow.contrib.losses.python.losses.loss_ops) is deprecated and will be removed after 2016-12-30.\n",
      "Instructions for updating:\n",
      "Use tf.losses.compute_weighted_loss instead.\n",
      "WARNING:tensorflow:From /remote/us01home29/yuwang/anaconda3/lib/python3.6/site-packages/tensorflow/contrib/losses/python/losses/loss_ops.py:151: add_arg_scope.<locals>.func_with_args (from tensorflow.contrib.framework.python.ops.arg_scope) is deprecated and will be removed after 2016-12-30.\n",
      "Instructions for updating:\n",
      "Use tf.losses.add_loss instead.\n",
      "ERROR:tensorflow:==================================\n",
      "Object was never used (type <class 'tensorflow.python.framework.ops.Tensor'>):\n",
      "<tf.Tensor 'report_uninitialized_variables_1/boolean_mask/Gather:0' shape=(?,) dtype=string>\n",
      "If you want to mark it as used call its \"mark_used()\" method.\n",
      "It was originally created here:\n",
      "['File \"/remote/us01home29/yuwang/anaconda3/lib/python3.6/runpy.py\", line 193, in _run_module_as_main\\n    \"__main__\", mod_spec)', 'File \"/remote/us01home29/yuwang/anaconda3/lib/python3.6/runpy.py\", line 85, in _run_code\\n    exec(code, run_globals)', 'File \"/remote/us01home29/yuwang/anaconda3/lib/python3.6/site-packages/ipykernel_launcher.py\", line 16, in <module>\\n    app.launch_new_instance()', 'File \"/remote/us01home29/yuwang/anaconda3/lib/python3.6/site-packages/traitlets/config/application.py\", line 658, in launch_instance\\n    app.start()', 'File \"/remote/us01home29/yuwang/anaconda3/lib/python3.6/site-packages/ipykernel/kernelapp.py\", line 477, in start\\n    ioloop.IOLoop.instance().start()', 'File \"/remote/us01home29/yuwang/anaconda3/lib/python3.6/site-packages/zmq/eventloop/ioloop.py\", line 177, in start\\n    super(ZMQIOLoop, self).start()', 'File \"/remote/us01home29/yuwang/anaconda3/lib/python3.6/site-packages/tornado/ioloop.py\", line 888, in start\\n    handler_func(fd_obj, events)', 'File \"/remote/us01home29/yuwang/anaconda3/lib/python3.6/site-packages/tornado/stack_context.py\", line 277, in null_wrapper\\n    return fn(*args, **kwargs)', 'File \"/remote/us01home29/yuwang/anaconda3/lib/python3.6/site-packages/zmq/eventloop/zmqstream.py\", line 440, in _handle_events\\n    self._handle_recv()', 'File \"/remote/us01home29/yuwang/anaconda3/lib/python3.6/site-packages/zmq/eventloop/zmqstream.py\", line 472, in _handle_recv\\n    self._run_callback(callback, msg)', 'File \"/remote/us01home29/yuwang/anaconda3/lib/python3.6/site-packages/zmq/eventloop/zmqstream.py\", line 414, in _run_callback\\n    callback(*args, **kwargs)', 'File \"/remote/us01home29/yuwang/anaconda3/lib/python3.6/site-packages/tornado/stack_context.py\", line 277, in null_wrapper\\n    return fn(*args, **kwargs)', 'File \"/remote/us01home29/yuwang/anaconda3/lib/python3.6/site-packages/ipykernel/kernelbase.py\", line 283, in dispatcher\\n    return self.dispatch_shell(stream, msg)', 'File \"/remote/us01home29/yuwang/anaconda3/lib/python3.6/site-packages/ipykernel/kernelbase.py\", line 235, in dispatch_shell\\n    handler(stream, idents, msg)', 'File \"/remote/us01home29/yuwang/anaconda3/lib/python3.6/site-packages/ipykernel/kernelbase.py\", line 399, in execute_request\\n    user_expressions, allow_stdin)', 'File \"/remote/us01home29/yuwang/anaconda3/lib/python3.6/site-packages/ipykernel/ipkernel.py\", line 196, in do_execute\\n    res = shell.run_cell(code, store_history=store_history, silent=silent)', 'File \"/remote/us01home29/yuwang/anaconda3/lib/python3.6/site-packages/ipykernel/zmqshell.py\", line 533, in run_cell\\n    return super(ZMQInteractiveShell, self).run_cell(*args, **kwargs)', 'File \"/remote/us01home29/yuwang/anaconda3/lib/python3.6/site-packages/IPython/core/interactiveshell.py\", line 2717, in run_cell\\n    interactivity=interactivity, compiler=compiler, result=result)', 'File \"/remote/us01home29/yuwang/anaconda3/lib/python3.6/site-packages/IPython/core/interactiveshell.py\", line 2827, in run_ast_nodes\\n    if self.run_code(code, result):', 'File \"/remote/us01home29/yuwang/anaconda3/lib/python3.6/site-packages/IPython/core/interactiveshell.py\", line 2881, in run_code\\n    exec(code_obj, self.user_global_ns, self.user_ns)', 'File \"<ipython-input-6-cc43521fc481>\", line 4, in <module>\\n    steps=TRAINING_STEPS)', 'File \"/remote/us01home29/yuwang/anaconda3/lib/python3.6/site-packages/tensorflow/contrib/learn/python/learn/estimators/estimator.py\", line 1353, in fit\\n    monitors=all_monitors)', 'File \"/remote/us01home29/yuwang/anaconda3/lib/python3.6/site-packages/tensorflow/python/util/deprecation.py\", line 296, in new_func\\n    return func(*args, **kwargs)', 'File \"/remote/us01home29/yuwang/anaconda3/lib/python3.6/site-packages/tensorflow/contrib/learn/python/learn/estimators/estimator.py\", line 458, in fit\\n    loss = self._train_model(input_fn=input_fn, hooks=hooks)', 'File \"/remote/us01home29/yuwang/anaconda3/lib/python3.6/site-packages/tensorflow/contrib/learn/python/learn/estimators/estimator.py\", line 1006, in _train_model\\n    config=self._session_config', 'File \"/remote/us01home29/yuwang/anaconda3/lib/python3.6/site-packages/tensorflow/python/training/monitored_session.py\", line 365, in MonitoredTrainingSession\\n    stop_grace_period_secs=stop_grace_period_secs)', 'File \"/remote/us01home29/yuwang/anaconda3/lib/python3.6/site-packages/tensorflow/python/training/monitored_session.py\", line 668, in __init__\\n    stop_grace_period_secs=stop_grace_period_secs)', 'File \"/remote/us01home29/yuwang/anaconda3/lib/python3.6/site-packages/tensorflow/python/training/monitored_session.py\", line 490, in __init__\\n    self._sess = _RecoverableSession(self._coordinated_creator)', 'File \"/remote/us01home29/yuwang/anaconda3/lib/python3.6/site-packages/tensorflow/python/training/monitored_session.py\", line 842, in __init__\\n    _WrappedSession.__init__(self, self._create_session())', 'File \"/remote/us01home29/yuwang/anaconda3/lib/python3.6/site-packages/tensorflow/python/training/monitored_session.py\", line 847, in _create_session\\n    return self._sess_creator.create_session()', 'File \"/remote/us01home29/yuwang/anaconda3/lib/python3.6/site-packages/tensorflow/python/training/monitored_session.py\", line 551, in create_session\\n    self.tf_sess = self._session_creator.create_session()', 'File \"/remote/us01home29/yuwang/anaconda3/lib/python3.6/site-packages/tensorflow/python/training/monitored_session.py\", line 416, in create_session\\n    self._scaffold.finalize()', 'File \"/remote/us01home29/yuwang/anaconda3/lib/python3.6/site-packages/tensorflow/python/training/monitored_session.py\", line 196, in finalize\\n    default_ready_for_local_init_op)', 'File \"/remote/us01home29/yuwang/anaconda3/lib/python3.6/site-packages/tensorflow/python/training/monitored_session.py\", line 258, in get_or_default\\n    op = default_constructor()', 'File \"/remote/us01home29/yuwang/anaconda3/lib/python3.6/site-packages/tensorflow/python/training/monitored_session.py\", line 193, in default_ready_for_local_init_op\\n    variables.global_variables())', 'File \"/remote/us01home29/yuwang/anaconda3/lib/python3.6/site-packages/tensorflow/python/util/tf_should_use.py\", line 175, in wrapped\\n    return _add_should_use_warning(fn(*args, **kwargs))', 'File \"/remote/us01home29/yuwang/anaconda3/lib/python3.6/site-packages/tensorflow/python/util/tf_should_use.py\", line 144, in _add_should_use_warning\\n    wrapped = TFShouldUseWarningWrapper(x)', 'File \"/remote/us01home29/yuwang/anaconda3/lib/python3.6/site-packages/tensorflow/python/util/tf_should_use.py\", line 101, in __init__\\n    stack = [s.strip() for s in traceback.format_stack()]']\n",
      "==================================\n"
     ]
    },
    {
     "name": "stdout",
     "output_type": "stream",
     "text": [
      "INFO:tensorflow:Create CheckpointSaverHook.\n",
      "INFO:tensorflow:Restoring parameters from ./ops_logs/x_sin/model.ckpt-310000\n",
      "INFO:tensorflow:Saving checkpoints for 310001 into ./ops_logs/x_sin/model.ckpt.\n",
      "INFO:tensorflow:loss = 0.000290712, step = 310001\n",
      "INFO:tensorflow:global_step/sec: 264.038\n",
      "INFO:tensorflow:loss = 0.000831464, step = 310101 (0.380 sec)\n",
      "INFO:tensorflow:global_step/sec: 316.099\n",
      "INFO:tensorflow:loss = 0.00437606, step = 310201 (0.316 sec)\n",
      "INFO:tensorflow:global_step/sec: 311.198\n",
      "INFO:tensorflow:loss = 0.000318643, step = 310301 (0.321 sec)\n",
      "INFO:tensorflow:global_step/sec: 313.243\n",
      "INFO:tensorflow:loss = 0.00142468, step = 310401 (0.319 sec)\n",
      "INFO:tensorflow:global_step/sec: 224.885\n",
      "INFO:tensorflow:loss = 0.000557978, step = 310501 (0.445 sec)\n",
      "INFO:tensorflow:global_step/sec: 284.559\n",
      "INFO:tensorflow:loss = 0.00688564, step = 310601 (0.352 sec)\n",
      "INFO:tensorflow:global_step/sec: 299.222\n",
      "INFO:tensorflow:loss = 0.00205344, step = 310701 (0.334 sec)\n",
      "INFO:tensorflow:global_step/sec: 300.521\n",
      "INFO:tensorflow:loss = 0.00305664, step = 310801 (0.333 sec)\n",
      "INFO:tensorflow:global_step/sec: 300.96\n",
      "INFO:tensorflow:loss = 0.0074907, step = 310901 (0.332 sec)\n",
      "INFO:tensorflow:global_step/sec: 322.24\n",
      "INFO:tensorflow:loss = 0.00318156, step = 311001 (0.310 sec)\n",
      "INFO:tensorflow:global_step/sec: 325.921\n",
      "INFO:tensorflow:loss = 0.00676902, step = 311101 (0.307 sec)\n",
      "INFO:tensorflow:global_step/sec: 315.898\n",
      "INFO:tensorflow:loss = 0.000138542, step = 311201 (0.316 sec)\n",
      "INFO:tensorflow:global_step/sec: 325.256\n",
      "INFO:tensorflow:loss = 0.000269468, step = 311301 (0.308 sec)\n",
      "INFO:tensorflow:global_step/sec: 345.431\n",
      "INFO:tensorflow:loss = 0.00479843, step = 311401 (0.289 sec)\n",
      "INFO:tensorflow:global_step/sec: 366.616\n",
      "INFO:tensorflow:loss = 0.00231865, step = 311501 (0.273 sec)\n",
      "INFO:tensorflow:global_step/sec: 334.879\n",
      "INFO:tensorflow:loss = 0.000695198, step = 311601 (0.299 sec)\n",
      "INFO:tensorflow:global_step/sec: 370.309\n",
      "INFO:tensorflow:loss = 0.000194007, step = 311701 (0.270 sec)\n",
      "INFO:tensorflow:global_step/sec: 367.642\n",
      "INFO:tensorflow:loss = 0.00286257, step = 311801 (0.272 sec)\n",
      "INFO:tensorflow:global_step/sec: 370.645\n",
      "INFO:tensorflow:loss = 0.000245157, step = 311901 (0.270 sec)\n",
      "INFO:tensorflow:global_step/sec: 370.444\n",
      "INFO:tensorflow:loss = 0.00339834, step = 312001 (0.270 sec)\n",
      "INFO:tensorflow:global_step/sec: 346.628\n",
      "INFO:tensorflow:loss = 0.0143014, step = 312101 (0.289 sec)\n",
      "INFO:tensorflow:global_step/sec: 335.182\n",
      "INFO:tensorflow:loss = 0.000318543, step = 312201 (0.298 sec)\n",
      "INFO:tensorflow:global_step/sec: 322.976\n",
      "INFO:tensorflow:loss = 0.00948532, step = 312301 (0.310 sec)\n",
      "INFO:tensorflow:global_step/sec: 327.455\n",
      "INFO:tensorflow:loss = 0.000789789, step = 312401 (0.305 sec)\n",
      "INFO:tensorflow:global_step/sec: 355.414\n",
      "INFO:tensorflow:loss = 0.00226181, step = 312501 (0.282 sec)\n",
      "INFO:tensorflow:global_step/sec: 359.081\n",
      "INFO:tensorflow:loss = 0.000679043, step = 312601 (0.278 sec)\n",
      "INFO:tensorflow:global_step/sec: 373.965\n",
      "INFO:tensorflow:loss = 0.00639738, step = 312701 (0.267 sec)\n",
      "INFO:tensorflow:global_step/sec: 247.391\n",
      "INFO:tensorflow:loss = 0.00116014, step = 312801 (0.405 sec)\n",
      "INFO:tensorflow:global_step/sec: 301.027\n",
      "INFO:tensorflow:loss = 0.000190943, step = 312901 (0.332 sec)\n",
      "INFO:tensorflow:global_step/sec: 291.915\n",
      "INFO:tensorflow:loss = 0.000591318, step = 313001 (0.343 sec)\n",
      "INFO:tensorflow:global_step/sec: 302.235\n",
      "INFO:tensorflow:loss = 0.00714302, step = 313101 (0.331 sec)\n",
      "INFO:tensorflow:global_step/sec: 307.655\n",
      "INFO:tensorflow:loss = 0.00878789, step = 313201 (0.326 sec)\n",
      "INFO:tensorflow:global_step/sec: 312.263\n",
      "INFO:tensorflow:loss = 0.000162544, step = 313301 (0.320 sec)\n",
      "INFO:tensorflow:global_step/sec: 325.532\n",
      "INFO:tensorflow:loss = 0.00462559, step = 313401 (0.307 sec)\n",
      "INFO:tensorflow:global_step/sec: 374.321\n",
      "INFO:tensorflow:loss = 0.0112478, step = 313501 (0.267 sec)\n",
      "INFO:tensorflow:global_step/sec: 363.501\n",
      "INFO:tensorflow:loss = 0.00694073, step = 313601 (0.275 sec)\n",
      "INFO:tensorflow:global_step/sec: 341.564\n",
      "INFO:tensorflow:loss = 0.0026306, step = 313701 (0.293 sec)\n",
      "INFO:tensorflow:global_step/sec: 351.19\n",
      "INFO:tensorflow:loss = 0.000287404, step = 313801 (0.285 sec)\n",
      "INFO:tensorflow:global_step/sec: 375.081\n",
      "INFO:tensorflow:loss = 0.00140742, step = 313901 (0.267 sec)\n",
      "INFO:tensorflow:global_step/sec: 379.651\n",
      "INFO:tensorflow:loss = 0.0117863, step = 314001 (0.263 sec)\n",
      "INFO:tensorflow:global_step/sec: 359.773\n",
      "INFO:tensorflow:loss = 0.00520738, step = 314101 (0.278 sec)\n",
      "INFO:tensorflow:global_step/sec: 332.484\n",
      "INFO:tensorflow:loss = 0.00112765, step = 314201 (0.301 sec)\n",
      "INFO:tensorflow:global_step/sec: 362.289\n",
      "INFO:tensorflow:loss = 0.008171, step = 314301 (0.276 sec)\n",
      "INFO:tensorflow:global_step/sec: 381.583\n",
      "INFO:tensorflow:loss = 0.00307343, step = 314401 (0.262 sec)\n",
      "INFO:tensorflow:global_step/sec: 380.411\n",
      "INFO:tensorflow:loss = 0.000116403, step = 314501 (0.263 sec)\n",
      "INFO:tensorflow:global_step/sec: 359.084\n",
      "INFO:tensorflow:loss = 0.000398794, step = 314601 (0.279 sec)\n",
      "INFO:tensorflow:global_step/sec: 379.36\n",
      "INFO:tensorflow:loss = 0.000496959, step = 314701 (0.264 sec)\n",
      "INFO:tensorflow:global_step/sec: 383.713\n",
      "INFO:tensorflow:loss = 0.00825955, step = 314801 (0.261 sec)\n",
      "INFO:tensorflow:global_step/sec: 378.618\n",
      "INFO:tensorflow:loss = 0.00795093, step = 314901 (0.264 sec)\n",
      "INFO:tensorflow:global_step/sec: 378.018\n",
      "INFO:tensorflow:loss = 0.00634299, step = 315001 (0.265 sec)\n",
      "INFO:tensorflow:global_step/sec: 303.869\n",
      "INFO:tensorflow:loss = 0.00925622, step = 315101 (0.329 sec)\n",
      "INFO:tensorflow:global_step/sec: 367.797\n",
      "INFO:tensorflow:loss = 0.00758318, step = 315201 (0.272 sec)\n",
      "INFO:tensorflow:global_step/sec: 326.883\n",
      "INFO:tensorflow:loss = 0.00216869, step = 315301 (0.306 sec)\n",
      "INFO:tensorflow:global_step/sec: 325.037\n",
      "INFO:tensorflow:loss = 0.00629517, step = 315401 (0.308 sec)\n",
      "INFO:tensorflow:global_step/sec: 321.727\n",
      "INFO:tensorflow:loss = 0.000190045, step = 315501 (0.311 sec)\n",
      "INFO:tensorflow:global_step/sec: 342.36\n",
      "INFO:tensorflow:loss = 0.000678721, step = 315601 (0.292 sec)\n",
      "INFO:tensorflow:global_step/sec: 370.97\n",
      "INFO:tensorflow:loss = 0.000108488, step = 315701 (0.270 sec)\n",
      "INFO:tensorflow:global_step/sec: 369.351\n",
      "INFO:tensorflow:loss = 0.00683537, step = 315801 (0.271 sec)\n",
      "INFO:tensorflow:global_step/sec: 340.55\n",
      "INFO:tensorflow:loss = 0.0173338, step = 315901 (0.294 sec)\n",
      "INFO:tensorflow:global_step/sec: 323.473\n",
      "INFO:tensorflow:loss = 0.00207419, step = 316001 (0.309 sec)\n",
      "INFO:tensorflow:global_step/sec: 333.773\n",
      "INFO:tensorflow:loss = 0.00234892, step = 316101 (0.300 sec)\n",
      "INFO:tensorflow:global_step/sec: 323.258\n",
      "INFO:tensorflow:loss = 0.00267233, step = 316201 (0.309 sec)\n",
      "INFO:tensorflow:global_step/sec: 328.506\n",
      "INFO:tensorflow:loss = 0.00523357, step = 316301 (0.304 sec)\n",
      "INFO:tensorflow:global_step/sec: 337.438\n",
      "INFO:tensorflow:loss = 0.00486853, step = 316401 (0.296 sec)\n",
      "INFO:tensorflow:global_step/sec: 340.882\n",
      "INFO:tensorflow:loss = 0.00261774, step = 316501 (0.293 sec)\n",
      "INFO:tensorflow:global_step/sec: 368.108\n",
      "INFO:tensorflow:loss = 0.000490477, step = 316601 (0.272 sec)\n",
      "INFO:tensorflow:global_step/sec: 350.099\n",
      "INFO:tensorflow:loss = 0.00190073, step = 316701 (0.286 sec)\n",
      "INFO:tensorflow:global_step/sec: 334.299\n",
      "INFO:tensorflow:loss = 0.000662158, step = 316801 (0.299 sec)\n",
      "INFO:tensorflow:global_step/sec: 330.237\n",
      "INFO:tensorflow:loss = 0.00717174, step = 316901 (0.303 sec)\n",
      "INFO:tensorflow:global_step/sec: 328.433\n",
      "INFO:tensorflow:loss = 0.00257268, step = 317001 (0.304 sec)\n",
      "INFO:tensorflow:global_step/sec: 338.442\n",
      "INFO:tensorflow:loss = 0.00214887, step = 317101 (0.295 sec)\n",
      "INFO:tensorflow:global_step/sec: 337.155\n",
      "INFO:tensorflow:loss = 0.00156658, step = 317201 (0.297 sec)\n",
      "INFO:tensorflow:global_step/sec: 339.704\n",
      "INFO:tensorflow:loss = 0.00770414, step = 317301 (0.294 sec)\n",
      "INFO:tensorflow:global_step/sec: 304.08\n",
      "INFO:tensorflow:loss = 0.00573122, step = 317401 (0.329 sec)\n",
      "INFO:tensorflow:global_step/sec: 277.865\n",
      "INFO:tensorflow:loss = 0.00309964, step = 317501 (0.360 sec)\n",
      "INFO:tensorflow:global_step/sec: 298.783\n",
      "INFO:tensorflow:loss = 0.000757383, step = 317601 (0.335 sec)\n",
      "INFO:tensorflow:global_step/sec: 299.295\n",
      "INFO:tensorflow:loss = 0.000728835, step = 317701 (0.334 sec)\n",
      "INFO:tensorflow:global_step/sec: 302.779\n",
      "INFO:tensorflow:loss = 0.000571001, step = 317801 (0.330 sec)\n"
     ]
    },
    {
     "name": "stdout",
     "output_type": "stream",
     "text": [
      "INFO:tensorflow:global_step/sec: 312.477\n",
      "INFO:tensorflow:loss = 0.011305, step = 317901 (0.320 sec)\n",
      "INFO:tensorflow:global_step/sec: 375.521\n",
      "INFO:tensorflow:loss = 0.011095, step = 318001 (0.266 sec)\n",
      "INFO:tensorflow:global_step/sec: 379.031\n",
      "INFO:tensorflow:loss = 0.00123741, step = 318101 (0.264 sec)\n",
      "INFO:tensorflow:global_step/sec: 380.545\n",
      "INFO:tensorflow:loss = 0.00982896, step = 318201 (0.263 sec)\n",
      "INFO:tensorflow:global_step/sec: 378.974\n",
      "INFO:tensorflow:loss = 0.00941525, step = 318301 (0.264 sec)\n",
      "INFO:tensorflow:global_step/sec: 380.035\n",
      "INFO:tensorflow:loss = 0.00743245, step = 318401 (0.263 sec)\n",
      "INFO:tensorflow:global_step/sec: 378.727\n",
      "INFO:tensorflow:loss = 0.000369936, step = 318501 (0.264 sec)\n",
      "INFO:tensorflow:global_step/sec: 368.96\n",
      "INFO:tensorflow:loss = 0.000897616, step = 318601 (0.271 sec)\n",
      "INFO:tensorflow:global_step/sec: 379.787\n",
      "INFO:tensorflow:loss = 0.00133909, step = 318701 (0.263 sec)\n",
      "INFO:tensorflow:global_step/sec: 377.103\n",
      "INFO:tensorflow:loss = 0.000456885, step = 318801 (0.265 sec)\n",
      "INFO:tensorflow:global_step/sec: 379.548\n",
      "INFO:tensorflow:loss = 0.000333885, step = 318901 (0.263 sec)\n",
      "INFO:tensorflow:global_step/sec: 381.043\n",
      "INFO:tensorflow:loss = 0.00171265, step = 319001 (0.262 sec)\n",
      "INFO:tensorflow:global_step/sec: 374.35\n",
      "INFO:tensorflow:loss = 0.0002518, step = 319101 (0.267 sec)\n",
      "INFO:tensorflow:global_step/sec: 379.334\n",
      "INFO:tensorflow:loss = 0.000665401, step = 319201 (0.264 sec)\n",
      "INFO:tensorflow:global_step/sec: 379.637\n",
      "INFO:tensorflow:loss = 0.00083579, step = 319301 (0.263 sec)\n",
      "INFO:tensorflow:global_step/sec: 378.826\n",
      "INFO:tensorflow:loss = 0.00151163, step = 319401 (0.264 sec)\n",
      "INFO:tensorflow:global_step/sec: 379.771\n",
      "INFO:tensorflow:loss = 0.00246678, step = 319501 (0.263 sec)\n",
      "INFO:tensorflow:global_step/sec: 370.886\n",
      "INFO:tensorflow:loss = 0.000514923, step = 319601 (0.270 sec)\n",
      "INFO:tensorflow:global_step/sec: 359.96\n",
      "INFO:tensorflow:loss = 0.0181903, step = 319701 (0.278 sec)\n",
      "INFO:tensorflow:global_step/sec: 352.804\n",
      "INFO:tensorflow:loss = 0.00421718, step = 319801 (0.283 sec)\n",
      "INFO:tensorflow:global_step/sec: 297.681\n",
      "INFO:tensorflow:loss = 0.00857652, step = 319901 (0.336 sec)\n",
      "INFO:tensorflow:Saving checkpoints for 320000 into ./ops_logs/x_sin/model.ckpt.\n",
      "INFO:tensorflow:Loss for final step: 0.000390795.\n"
     ]
    },
    {
     "data": {
      "text/plain": [
       "SKCompat()"
      ]
     },
     "execution_count": 13,
     "metadata": {},
     "output_type": "execute_result"
    }
   ],
   "source": [
    "regressor.fit(X['train'], y['train'],\n",
    "              #monitors=[validation_monitor],\n",
    "              batch_size=BATCH_SIZE,\n",
    "              steps=TRAINING_STEPS)"
   ]
  },
  {
   "cell_type": "code",
   "execution_count": 15,
   "metadata": {
    "scrolled": true
   },
   "outputs": [
    {
     "name": "stdout",
     "output_type": "stream",
     "text": [
      "WARNING:tensorflow:From /remote/us01home29/yuwang/anaconda3/lib/python3.6/site-packages/tensorflow/contrib/learn/python/learn/models.py:107: mean_squared_error_regressor (from tensorflow.contrib.learn.python.learn.ops.losses_ops) is deprecated and will be removed after 2016-12-01.\n",
      "Instructions for updating:\n",
      "Use `tf.contrib.losses.mean_squared_error` and explicit logits computation.\n",
      "WARNING:tensorflow:From /remote/us01home29/yuwang/anaconda3/lib/python3.6/site-packages/tensorflow/contrib/learn/python/learn/ops/losses_ops.py:39: mean_squared_error (from tensorflow.contrib.losses.python.losses.loss_ops) is deprecated and will be removed after 2016-12-30.\n",
      "Instructions for updating:\n",
      "Use tf.losses.mean_squared_error instead.\n",
      "WARNING:tensorflow:From /remote/us01home29/yuwang/anaconda3/lib/python3.6/site-packages/tensorflow/contrib/losses/python/losses/loss_ops.py:539: compute_weighted_loss (from tensorflow.contrib.losses.python.losses.loss_ops) is deprecated and will be removed after 2016-12-30.\n",
      "Instructions for updating:\n",
      "Use tf.losses.compute_weighted_loss instead.\n",
      "WARNING:tensorflow:From /remote/us01home29/yuwang/anaconda3/lib/python3.6/site-packages/tensorflow/contrib/losses/python/losses/loss_ops.py:151: add_arg_scope.<locals>.func_with_args (from tensorflow.contrib.framework.python.ops.arg_scope) is deprecated and will be removed after 2016-12-30.\n",
      "Instructions for updating:\n",
      "Use tf.losses.add_loss instead.\n",
      "INFO:tensorflow:Restoring parameters from ./ops_logs/x_sin/model.ckpt-320000\n",
      "MSE: 63.772095\n"
     ]
    }
   ],
   "source": [
    "predicted = regressor.predict(X['test'])\n",
    "rmse = np.sqrt(((predicted - y['test']) ** 2).mean(axis=0))\n",
    "score = mean_squared_error(predicted, y['test'])\n",
    "print (\"MSE: %f\" % score)"
   ]
  },
  {
   "cell_type": "code",
   "execution_count": 16,
   "metadata": {},
   "outputs": [
    {
     "data": {
      "text/plain": [
       "<matplotlib.legend.Legend at 0x7f7c51d88a20>"
      ]
     },
     "execution_count": 16,
     "metadata": {},
     "output_type": "execute_result"
    },
    {
     "data": {
      "image/png": "[encoded data removed]",
      "text/plain": [
       "<matplotlib.figure.Figure at 0x7f7cd0111cf8>"
      ]
     },
     "metadata": {},
     "output_type": "display_data"
    }
   ],
   "source": [
    "plot_predicted, = plt.plot(predicted, label='predicted')\n",
    "plot_test, = plt.plot(y['test'], label='test')\n",
    "plt.legend(handles=[plot_predicted, plot_test])"
   ]
  },
  {
   "cell_type": "code",
   "execution_count": 17,
   "metadata": {},
   "outputs": [
    {
     "name": "stdout",
     "output_type": "stream",
     "text": [
      "WARNING:tensorflow:From /remote/us01home29/yuwang/anaconda3/lib/python3.6/site-packages/tensorflow/contrib/learn/python/learn/models.py:107: mean_squared_error_regressor (from tensorflow.contrib.learn.python.learn.ops.losses_ops) is deprecated and will be removed after 2016-12-01.\n",
      "Instructions for updating:\n",
      "Use `tf.contrib.losses.mean_squared_error` and explicit logits computation.\n",
      "WARNING:tensorflow:From /remote/us01home29/yuwang/anaconda3/lib/python3.6/site-packages/tensorflow/contrib/learn/python/learn/ops/losses_ops.py:39: mean_squared_error (from tensorflow.contrib.losses.python.losses.loss_ops) is deprecated and will be removed after 2016-12-30.\n",
      "Instructions for updating:\n",
      "Use tf.losses.mean_squared_error instead.\n",
      "WARNING:tensorflow:From /remote/us01home29/yuwang/anaconda3/lib/python3.6/site-packages/tensorflow/contrib/losses/python/losses/loss_ops.py:539: compute_weighted_loss (from tensorflow.contrib.losses.python.losses.loss_ops) is deprecated and will be removed after 2016-12-30.\n",
      "Instructions for updating:\n",
      "Use tf.losses.compute_weighted_loss instead.\n",
      "WARNING:tensorflow:From /remote/us01home29/yuwang/anaconda3/lib/python3.6/site-packages/tensorflow/contrib/losses/python/losses/loss_ops.py:151: add_arg_scope.<locals>.func_with_args (from tensorflow.contrib.framework.python.ops.arg_scope) is deprecated and will be removed after 2016-12-30.\n",
      "Instructions for updating:\n",
      "Use tf.losses.add_loss instead.\n",
      "INFO:tensorflow:Restoring parameters from ./ops_logs/x_sin/model.ckpt-320000\n"
     ]
    },
    {
     "data": {
      "text/plain": [
       "<matplotlib.legend.Legend at 0x7f7c74011198>"
      ]
     },
     "execution_count": 17,
     "metadata": {},
     "output_type": "execute_result"
    },
    {
     "data": {
      "image/png": "[encoded data removed]",
      "text/plain": [
       "<matplotlib.figure.Figure at 0x7f7c51d5ab00>"
      ]
     },
     "metadata": {},
     "output_type": "display_data"
    }
   ],
   "source": [
    "plot_predicted, = plt.plot(regressor.predict(X['train']), label='predicted', color=\"red\")\n",
    "plot_test, = plt.plot(y['train'], label='test', color=\"blue\")\n",
    "plt.legend(handles=[plot_predicted, plot_test])"
   ]
  },
  {
   "cell_type": "code",
   "execution_count": null,
   "metadata": {
    "collapsed": true
   },
   "outputs": [],
   "source": []
  }
 ],
 "metadata": {
  "kernelspec": {
   "display_name": "Python 3",
   "language": "python",
   "name": "python3"
  },
  "language_info": {
   "codemirror_mode": {
    "name": "ipython",
    "version": 3
   },
   "file_extension": ".py",
   "mimetype": "text/x-python",
   "name": "python",
   "nbconvert_exporter": "python",
   "pygments_lexer": "ipython3",
   "version": "3.6.1"
  }
 },
 "nbformat": 4,
 "nbformat_minor": 2
}
