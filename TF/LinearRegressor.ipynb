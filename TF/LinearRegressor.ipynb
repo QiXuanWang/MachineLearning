{
 "cells": [
  {
   "cell_type": "code",
   "execution_count": 1,
   "metadata": {},
   "outputs": [
    {
     "name": "stdout",
     "output_type": "stream",
     "text": [
      "INFO:tensorflow:Using default config.\n",
      "WARNING:tensorflow:Using temporary folder as model directory: /tmp/tmpsd6pe8e4\n",
      "INFO:tensorflow:Using config: {'_model_dir': '/tmp/tmpsd6pe8e4', '_tf_random_seed': 1, '_save_summary_steps': 100, '_save_checkpoints_secs': 600, '_save_checkpoints_steps': None, '_session_config': None, '_keep_checkpoint_max': 5, '_keep_checkpoint_every_n_hours': 10000, '_log_step_count_steps': 100}\n",
      "INFO:tensorflow:Create CheckpointSaverHook.\n",
      "INFO:tensorflow:Saving checkpoints for 1 into /tmp/tmpsd6pe8e4/model.ckpt.\n",
      "INFO:tensorflow:loss = 14.0, step = 1\n",
      "INFO:tensorflow:global_step/sec: 1387.36\n",
      "INFO:tensorflow:loss = 0.158421, step = 101 (0.073 sec)\n",
      "INFO:tensorflow:global_step/sec: 1537.18\n",
      "INFO:tensorflow:loss = 0.0259584, step = 201 (0.065 sec)\n",
      "INFO:tensorflow:global_step/sec: 1551.18\n",
      "INFO:tensorflow:loss = 0.0107812, step = 301 (0.064 sec)\n",
      "INFO:tensorflow:global_step/sec: 1512.59\n",
      "INFO:tensorflow:loss = 0.00192279, step = 401 (0.066 sec)\n",
      "INFO:tensorflow:global_step/sec: 1494.84\n",
      "INFO:tensorflow:loss = 0.000100472, step = 501 (0.067 sec)\n",
      "INFO:tensorflow:global_step/sec: 1505.77\n",
      "INFO:tensorflow:loss = 7.03774e-05, step = 601 (0.066 sec)\n",
      "INFO:tensorflow:global_step/sec: 1532.48\n",
      "INFO:tensorflow:loss = 1.2878e-05, step = 701 (0.065 sec)\n",
      "INFO:tensorflow:global_step/sec: 1505.04\n",
      "INFO:tensorflow:loss = 9.37648e-07, step = 801 (0.066 sec)\n",
      "INFO:tensorflow:global_step/sec: 1486.81\n",
      "INFO:tensorflow:loss = 3.14597e-07, step = 901 (0.067 sec)\n",
      "INFO:tensorflow:Saving checkpoints for 1000 into /tmp/tmpsd6pe8e4/model.ckpt.\n",
      "INFO:tensorflow:Loss for final step: 8.52581e-08.\n",
      "INFO:tensorflow:Starting evaluation at 2017-08-17-08:11:45\n",
      "INFO:tensorflow:Restoring parameters from /tmp/tmpsd6pe8e4/model.ckpt-1000\n",
      "INFO:tensorflow:Finished evaluation at 2017-08-17-08:11:45\n",
      "INFO:tensorflow:Saving dict for global step 1000: average_loss = 1.38662e-08, global_step = 1000, loss = 5.54647e-08\n",
      "INFO:tensorflow:Starting evaluation at 2017-08-17-08:11:45\n",
      "INFO:tensorflow:Restoring parameters from /tmp/tmpsd6pe8e4/model.ckpt-1000\n",
      "INFO:tensorflow:Finished evaluation at 2017-08-17-08:11:46\n",
      "INFO:tensorflow:Saving dict for global step 1000: average_loss = 0.00253582, global_step = 1000, loss = 0.0101433\n",
      "train metrics: {'average_loss': 1.3866169e-08, 'loss': 5.5464675e-08, 'global_step': 1000}\n",
      "eval metrics: {'average_loss': 0.0025358244, 'loss': 0.010143298, 'global_step': 1000}\n"
     ]
    }
   ],
   "source": [
    "import tensorflow as tf\n",
    "# NumPy is often used to load, manipulate and preprocess data.\n",
    "import numpy as np\n",
    "\n",
    "# Declare list of features. We only have one numeric feature. There are many\n",
    "# other types of columns that are more complicated and useful.\n",
    "feature_columns = [tf.feature_column.numeric_column(\"x\", shape=[1])]\n",
    "\n",
    "# An estimator is the front end to invoke training (fitting) and evaluation\n",
    "# (inference). There are many predefined types like linear regression,\n",
    "# linear classification, and many neural network classifiers and regressors.\n",
    "# The following code provides an estimator that does linear regression.\n",
    "estimator = tf.estimator.LinearRegressor(feature_columns=feature_columns)\n",
    "\n",
    "# TensorFlow provides many helper methods to read and set up data sets.\n",
    "# Here we use two data sets: one for training and one for evaluation\n",
    "# We have to tell the function how many batches\n",
    "# of data (num_epochs) we want and how big each batch should be.\n",
    "x_train = np.array([1., 2., 3., 4.])\n",
    "y_train = np.array([0., -1., -2., -3.])\n",
    "x_eval = np.array([2., 5., 8., 1.])\n",
    "y_eval = np.array([-1.01, -4.1, -7, 0.])\n",
    "input_fn = tf.estimator.inputs.numpy_input_fn(\n",
    "    {\"x\": x_train}, y_train, batch_size=4, num_epochs=None, shuffle=True)\n",
    "train_input_fn = tf.estimator.inputs.numpy_input_fn(\n",
    "    {\"x\": x_train}, y_train, batch_size=4, num_epochs=1000, shuffle=False)\n",
    "eval_input_fn = tf.estimator.inputs.numpy_input_fn(\n",
    "    {\"x\": x_eval}, y_eval, batch_size=4, num_epochs=1000, shuffle=False)\n",
    "\n",
    "# We can invoke 1000 training steps by invoking the  method and passing the\n",
    "# training data set.\n",
    "estimator.train(input_fn=input_fn, steps=1000)\n",
    "\n",
    "# Here we evaluate how well our model did.\n",
    "train_metrics = estimator.evaluate(input_fn=train_input_fn)\n",
    "eval_metrics = estimator.evaluate(input_fn=eval_input_fn)\n",
    "print(\"train metrics: %r\"% train_metrics)\n",
    "print(\"eval metrics: %r\"% eval_metrics)"
   ]
  },
  {
   "cell_type": "code",
   "execution_count": null,
   "metadata": {
    "collapsed": true
   },
   "outputs": [],
   "source": []
  },
  {
   "cell_type": "code",
   "execution_count": null,
   "metadata": {
    "collapsed": true
   },
   "outputs": [],
   "source": []
  }
 ],
 "metadata": {
  "kernelspec": {
   "display_name": "Python 3",
   "language": "python",
   "name": "python3"
  },
  "language_info": {
   "codemirror_mode": {
    "name": "ipython",
    "version": 3
   },
   "file_extension": ".py",
   "mimetype": "text/x-python",
   "name": "python",
   "nbconvert_exporter": "python",
   "pygments_lexer": "ipython3",
   "version": "3.6.1"
  }
 },
 "nbformat": 4,
 "nbformat_minor": 2
}
