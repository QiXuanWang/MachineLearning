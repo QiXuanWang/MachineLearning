{
 "cells": [
  {
   "cell_type": "code",
   "execution_count": 1,
   "metadata": {
    "collapsed": true
   },
   "outputs": [],
   "source": [
    "%matplotlib inline\n",
    "import numpy as np\n",
    "import pandas as pd\n",
    "import tensorflow as tf\n",
    "from matplotlib import pyplot as plt\n",
    "\n",
    "from sklearn.metrics import mean_squared_error\n",
    "\n",
    "from lstm import lstm_model\n",
    "from data_processing import generate_data"
   ]
  },
  {
   "cell_type": "code",
   "execution_count": 2,
   "metadata": {
    "collapsed": true
   },
   "outputs": [],
   "source": [
    "LOG_DIR = './ops_logs/sin'\n",
    "TIMESTEPS = 3\n",
    "RNN_LAYERS = [{'num_units': 5}]\n",
    "DENSE_LAYERS = None\n",
    "TRAINING_STEPS = 10000\n",
    "PRINT_STEPS = TRAINING_STEPS / 10\n",
    "BATCH_SIZE = 100"
   ]
  },
  {
   "cell_type": "code",
   "execution_count": 3,
   "metadata": {},
   "outputs": [
    {
     "name": "stdout",
     "output_type": "stream",
     "text": [
      "INFO:tensorflow:Using default config.\n",
      "INFO:tensorflow:Using config: {'_task_type': None, '_task_id': 0, '_cluster_spec': <tensorflow.python.training.server_lib.ClusterSpec object at 0x7f5ea33c7588>, '_master': '', '_num_ps_replicas': 0, '_num_worker_replicas': 0, '_environment': 'local', '_is_chief': True, '_evaluation_master': '', '_tf_config': gpu_options {\n",
      "  per_process_gpu_memory_fraction: 1.0\n",
      "}\n",
      ", '_tf_random_seed': None, '_save_summary_steps': 100, '_save_checkpoints_secs': 600, '_log_step_count_steps': 100, '_session_config': None, '_save_checkpoints_steps': None, '_keep_checkpoint_max': 5, '_keep_checkpoint_every_n_hours': 10000, '_model_dir': './ops_logs/sin'}\n"
     ]
    }
   ],
   "source": [
    "\n",
    "regressor = tf.contrib.learn.SKCompat(tf.contrib.learn.Estimator(\n",
    "    model_fn=lstm_model(\n",
    "        TIMESTEPS,\n",
    "        RNN_LAYERS,\n",
    "        DENSE_LAYERS\n",
    "    ),\n",
    "    model_dir=LOG_DIR\n",
    "))"
   ]
  },
  {
   "cell_type": "code",
   "execution_count": 4,
   "metadata": {},
   "outputs": [
    {
     "name": "stdout",
     "output_type": "stream",
     "text": [
      "WARNING:tensorflow:From /remote/us01home29/yuwang/anaconda3/lib/python3.6/site-packages/tensorflow/contrib/learn/python/learn/monitors.py:269: BaseMonitor.__init__ (from tensorflow.contrib.learn.python.learn.monitors) is deprecated and will be removed after 2016-12-05.\n",
      "Instructions for updating:\n",
      "Monitors are deprecated. Please use tf.train.SessionRunHook.\n",
      "(8097, 3, 1)\n",
      "(8097, 1)\n",
      "[[ 0.        ]\n",
      " [ 0.01000083]\n",
      " [ 0.02000067]]\n",
      "[[ 0.01000083]\n",
      " [ 0.02000067]\n",
      " [ 0.0299985 ]]\n"
     ]
    }
   ],
   "source": [
    "X, y = generate_data(np.sin, np.linspace(0, 100, 10000, dtype=np.float32), TIMESTEPS, seperate=False)\n",
    "\n",
    "# create a lstm instance and validation monitor\n",
    "validation_monitor = tf.contrib.learn.monitors.ValidationMonitor(X['val'], y['val'],\n",
    "                                                     every_n_steps=PRINT_STEPS,\n",
    "                                                     early_stopping_rounds=1000)\n",
    "print(X['train'].shape)\n",
    "print(y['train'].shape)\n",
    "print(X['train'][0])\n",
    "print(X['train'][1])"
   ]
  },
  {
   "cell_type": "code",
   "execution_count": 5,
   "metadata": {},
   "outputs": [
    {
     "name": "stdout",
     "output_type": "stream",
     "text": [
      "3\n",
      "Tensor(\"unstack:0\", shape=(8097, 1), dtype=float32)\n"
     ]
    }
   ],
   "source": [
    "x_ = tf.unstack(X['train'], axis=1)\n",
    "x2_ = tf.unstack(X['train'], axis=1, num=TIMESTEPS)\n",
    "print(len(x_))\n",
    "print(x_[0])"
   ]
  },
  {
   "cell_type": "code",
   "execution_count": 6,
   "metadata": {},
   "outputs": [
    {
     "name": "stdout",
     "output_type": "stream",
     "text": [
      "WARNING:tensorflow:From /remote/us01home29/yuwang/anaconda3/lib/python3.6/site-packages/tensorflow/contrib/learn/python/learn/models.py:107: mean_squared_error_regressor (from tensorflow.contrib.learn.python.learn.ops.losses_ops) is deprecated and will be removed after 2016-12-01.\n",
      "Instructions for updating:\n",
      "Use `tf.contrib.losses.mean_squared_error` and explicit logits computation.\n",
      "WARNING:tensorflow:From /remote/us01home29/yuwang/anaconda3/lib/python3.6/site-packages/tensorflow/contrib/learn/python/learn/ops/losses_ops.py:39: mean_squared_error (from tensorflow.contrib.losses.python.losses.loss_ops) is deprecated and will be removed after 2016-12-30.\n",
      "Instructions for updating:\n",
      "Use tf.losses.mean_squared_error instead.\n",
      "WARNING:tensorflow:From /remote/us01home29/yuwang/anaconda3/lib/python3.6/site-packages/tensorflow/contrib/losses/python/losses/loss_ops.py:539: compute_weighted_loss (from tensorflow.contrib.losses.python.losses.loss_ops) is deprecated and will be removed after 2016-12-30.\n",
      "Instructions for updating:\n",
      "Use tf.losses.compute_weighted_loss instead.\n",
      "WARNING:tensorflow:From /remote/us01home29/yuwang/anaconda3/lib/python3.6/site-packages/tensorflow/contrib/losses/python/losses/loss_ops.py:151: add_arg_scope.<locals>.func_with_args (from tensorflow.contrib.framework.python.ops.arg_scope) is deprecated and will be removed after 2016-12-30.\n",
      "Instructions for updating:\n",
      "Use tf.losses.add_loss instead.\n",
      "INFO:tensorflow:Create CheckpointSaverHook.\n",
      "INFO:tensorflow:Restoring parameters from ./ops_logs/sin/model.ckpt-100000\n",
      "INFO:tensorflow:Saving checkpoints for 100001 into ./ops_logs/sin/model.ckpt.\n",
      "WARNING:tensorflow:From /remote/us01home29/yuwang/anaconda3/lib/python3.6/site-packages/tensorflow/contrib/learn/python/learn/monitors.py:672: calling BaseEstimator.evaluate (from tensorflow.contrib.learn.python.learn.estimators.estimator) with x is deprecated and will be removed after 2016-12-01.\n",
      "Instructions for updating:\n",
      "Estimator is decoupled from Scikit Learn interface by moving into\n",
      "separate class SKCompat. Arguments x, y and batch_size are only\n",
      "available in the SKCompat class, Estimator will only accept input_fn.\n",
      "Example conversion:\n",
      "  est = Estimator(...) -> est = SKCompat(Estimator(...))\n",
      "WARNING:tensorflow:From /remote/us01home29/yuwang/anaconda3/lib/python3.6/site-packages/tensorflow/contrib/learn/python/learn/monitors.py:672: calling BaseEstimator.evaluate (from tensorflow.contrib.learn.python.learn.estimators.estimator) with y is deprecated and will be removed after 2016-12-01.\n",
      "Instructions for updating:\n",
      "Estimator is decoupled from Scikit Learn interface by moving into\n",
      "separate class SKCompat. Arguments x, y and batch_size are only\n",
      "available in the SKCompat class, Estimator will only accept input_fn.\n",
      "Example conversion:\n",
      "  est = Estimator(...) -> est = SKCompat(Estimator(...))\n",
      "WARNING:tensorflow:From /remote/us01home29/yuwang/anaconda3/lib/python3.6/site-packages/tensorflow/contrib/learn/python/learn/models.py:107: mean_squared_error_regressor (from tensorflow.contrib.learn.python.learn.ops.losses_ops) is deprecated and will be removed after 2016-12-01.\n",
      "Instructions for updating:\n",
      "Use `tf.contrib.losses.mean_squared_error` and explicit logits computation.\n",
      "WARNING:tensorflow:From /remote/us01home29/yuwang/anaconda3/lib/python3.6/site-packages/tensorflow/contrib/learn/python/learn/ops/losses_ops.py:39: mean_squared_error (from tensorflow.contrib.losses.python.losses.loss_ops) is deprecated and will be removed after 2016-12-30.\n",
      "Instructions for updating:\n",
      "Use tf.losses.mean_squared_error instead.\n",
      "WARNING:tensorflow:From /remote/us01home29/yuwang/anaconda3/lib/python3.6/site-packages/tensorflow/contrib/losses/python/losses/loss_ops.py:539: compute_weighted_loss (from tensorflow.contrib.losses.python.losses.loss_ops) is deprecated and will be removed after 2016-12-30.\n",
      "Instructions for updating:\n",
      "Use tf.losses.compute_weighted_loss instead.\n",
      "WARNING:tensorflow:From /remote/us01home29/yuwang/anaconda3/lib/python3.6/site-packages/tensorflow/contrib/losses/python/losses/loss_ops.py:151: add_arg_scope.<locals>.func_with_args (from tensorflow.contrib.framework.python.ops.arg_scope) is deprecated and will be removed after 2016-12-30.\n",
      "Instructions for updating:\n",
      "Use tf.losses.add_loss instead.\n",
      "INFO:tensorflow:Starting evaluation at 2017-09-12-09:56:23\n",
      "INFO:tensorflow:Restoring parameters from ./ops_logs/sin/model.ckpt-100001\n",
      "INFO:tensorflow:Finished evaluation at 2017-09-12-09:56:24\n",
      "INFO:tensorflow:Saving dict for global step 100001: global_step = 100001, loss = 0.000100653\n",
      "INFO:tensorflow:Validation (step 100001): loss = 0.000100653, global_step = 100001\n",
      "INFO:tensorflow:loss = 8.81119e-05, step = 100001\n",
      "INFO:tensorflow:global_step/sec: 77.5267\n",
      "INFO:tensorflow:loss = 0.000104446, step = 100101 (0.158 sec)\n",
      "INFO:tensorflow:global_step/sec: 708.895\n",
      "INFO:tensorflow:loss = 8.76707e-05, step = 100201 (0.141 sec)\n",
      "INFO:tensorflow:global_step/sec: 717.959\n",
      "INFO:tensorflow:loss = 9.572e-05, step = 100301 (0.140 sec)\n",
      "INFO:tensorflow:global_step/sec: 732.498\n",
      "INFO:tensorflow:loss = 9.41077e-05, step = 100401 (0.136 sec)\n",
      "INFO:tensorflow:global_step/sec: 743.914\n",
      "INFO:tensorflow:loss = 0.00010798, step = 100501 (0.134 sec)\n",
      "INFO:tensorflow:global_step/sec: 777.441\n",
      "INFO:tensorflow:loss = 9.11689e-05, step = 100601 (0.129 sec)\n",
      "INFO:tensorflow:global_step/sec: 775.762\n",
      "INFO:tensorflow:loss = 0.000110062, step = 100701 (0.129 sec)\n",
      "INFO:tensorflow:global_step/sec: 780.086\n",
      "INFO:tensorflow:loss = 9.97644e-05, step = 100801 (0.128 sec)\n",
      "INFO:tensorflow:global_step/sec: 788.851\n",
      "INFO:tensorflow:loss = 0.000103546, step = 100901 (0.127 sec)\n",
      "INFO:tensorflow:global_step/sec: 777.473\n",
      "INFO:tensorflow:loss = 0.000102849, step = 101001 (0.153 sec)\n",
      "INFO:tensorflow:global_step/sec: 641.197\n",
      "INFO:tensorflow:loss = 9.42567e-05, step = 101101 (0.132 sec)\n",
      "INFO:tensorflow:global_step/sec: 744.584\n",
      "INFO:tensorflow:loss = 9.8572e-05, step = 101201 (0.134 sec)\n",
      "INFO:tensorflow:global_step/sec: 737.56\n",
      "INFO:tensorflow:loss = 9.50667e-05, step = 101301 (0.136 sec)\n",
      "INFO:tensorflow:global_step/sec: 757.895\n",
      "INFO:tensorflow:loss = 9.03194e-05, step = 101401 (0.132 sec)\n",
      "INFO:tensorflow:global_step/sec: 755.453\n",
      "INFO:tensorflow:loss = 0.000104503, step = 101501 (0.132 sec)\n",
      "INFO:tensorflow:global_step/sec: 771.714\n",
      "INFO:tensorflow:loss = 9.04996e-05, step = 101601 (0.130 sec)\n",
      "INFO:tensorflow:global_step/sec: 770.102\n",
      "INFO:tensorflow:loss = 8.965e-05, step = 101701 (0.130 sec)\n",
      "INFO:tensorflow:global_step/sec: 778.596\n",
      "INFO:tensorflow:loss = 0.000101784, step = 101801 (0.128 sec)\n",
      "INFO:tensorflow:global_step/sec: 787.524\n",
      "INFO:tensorflow:loss = 0.000103701, step = 101901 (0.127 sec)\n",
      "INFO:tensorflow:global_step/sec: 780.506\n",
      "INFO:tensorflow:loss = 9.61972e-05, step = 102001 (0.131 sec)\n",
      "INFO:tensorflow:global_step/sec: 732.978\n",
      "INFO:tensorflow:loss = 0.000103944, step = 102101 (0.133 sec)\n",
      "INFO:tensorflow:global_step/sec: 743.204\n",
      "INFO:tensorflow:loss = 9.65223e-05, step = 102201 (0.135 sec)\n",
      "INFO:tensorflow:global_step/sec: 727.526\n",
      "INFO:tensorflow:loss = 9.83665e-05, step = 102301 (0.138 sec)\n",
      "INFO:tensorflow:global_step/sec: 772.894\n",
      "INFO:tensorflow:loss = 0.000101122, step = 102401 (0.129 sec)\n",
      "INFO:tensorflow:global_step/sec: 753.086\n",
      "INFO:tensorflow:loss = 0.00010965, step = 102501 (0.133 sec)\n",
      "INFO:tensorflow:global_step/sec: 755.601\n",
      "INFO:tensorflow:loss = 0.000102101, step = 102601 (0.132 sec)\n",
      "INFO:tensorflow:global_step/sec: 765.383\n",
      "INFO:tensorflow:loss = 9.01373e-05, step = 102701 (0.131 sec)\n",
      "INFO:tensorflow:global_step/sec: 767.117\n",
      "INFO:tensorflow:loss = 8.76337e-05, step = 102801 (0.130 sec)\n",
      "INFO:tensorflow:global_step/sec: 753.81\n",
      "INFO:tensorflow:loss = 7.73239e-05, step = 102901 (0.133 sec)\n",
      "INFO:tensorflow:global_step/sec: 759.977\n",
      "INFO:tensorflow:loss = 9.77952e-05, step = 103001 (0.134 sec)\n",
      "INFO:tensorflow:global_step/sec: 766.255\n",
      "INFO:tensorflow:loss = 9.72459e-05, step = 103101 (0.128 sec)\n",
      "INFO:tensorflow:global_step/sec: 777.443\n",
      "INFO:tensorflow:loss = 9.22882e-05, step = 103201 (0.129 sec)\n",
      "INFO:tensorflow:global_step/sec: 783.219\n",
      "INFO:tensorflow:loss = 9.64034e-05, step = 103301 (0.128 sec)\n",
      "INFO:tensorflow:global_step/sec: 406.221\n",
      "INFO:tensorflow:loss = 9.24933e-05, step = 103401 (0.246 sec)\n",
      "INFO:tensorflow:global_step/sec: 565.547\n"
     ]
    },
    {
     "name": "stdout",
     "output_type": "stream",
     "text": [
      "INFO:tensorflow:loss = 9.83958e-05, step = 103501 (0.177 sec)\n",
      "INFO:tensorflow:global_step/sec: 712.239\n",
      "INFO:tensorflow:loss = 9.33609e-05, step = 103601 (0.140 sec)\n",
      "INFO:tensorflow:global_step/sec: 720.36\n",
      "INFO:tensorflow:loss = 0.000111508, step = 103701 (0.139 sec)\n",
      "INFO:tensorflow:global_step/sec: 717.022\n",
      "INFO:tensorflow:loss = 9.30605e-05, step = 103801 (0.139 sec)\n",
      "INFO:tensorflow:global_step/sec: 720.909\n",
      "INFO:tensorflow:loss = 0.000100561, step = 103901 (0.139 sec)\n",
      "INFO:tensorflow:global_step/sec: 718.376\n",
      "INFO:tensorflow:loss = 9.74998e-05, step = 104001 (0.141 sec)\n",
      "INFO:tensorflow:global_step/sec: 712.447\n",
      "INFO:tensorflow:loss = 0.000107853, step = 104101 (0.138 sec)\n",
      "INFO:tensorflow:global_step/sec: 730.784\n",
      "INFO:tensorflow:loss = 9.75885e-05, step = 104201 (0.137 sec)\n",
      "INFO:tensorflow:global_step/sec: 732.395\n",
      "INFO:tensorflow:loss = 0.000106213, step = 104301 (0.137 sec)\n",
      "INFO:tensorflow:global_step/sec: 737.292\n",
      "INFO:tensorflow:loss = 9.64612e-05, step = 104401 (0.136 sec)\n",
      "INFO:tensorflow:global_step/sec: 743.878\n",
      "INFO:tensorflow:loss = 9.02333e-05, step = 104501 (0.134 sec)\n",
      "INFO:tensorflow:global_step/sec: 752.494\n",
      "INFO:tensorflow:loss = 0.000102895, step = 104601 (0.133 sec)\n",
      "INFO:tensorflow:global_step/sec: 740.713\n",
      "INFO:tensorflow:loss = 0.000100204, step = 104701 (0.135 sec)\n",
      "INFO:tensorflow:global_step/sec: 735.023\n",
      "INFO:tensorflow:loss = 8.70482e-05, step = 104801 (0.136 sec)\n",
      "INFO:tensorflow:global_step/sec: 739.209\n",
      "INFO:tensorflow:loss = 0.000105607, step = 104901 (0.135 sec)\n",
      "INFO:tensorflow:global_step/sec: 753.043\n",
      "INFO:tensorflow:loss = 8.10434e-05, step = 105001 (0.144 sec)\n",
      "INFO:tensorflow:global_step/sec: 663.741\n",
      "INFO:tensorflow:loss = 9.96035e-05, step = 105101 (0.140 sec)\n",
      "INFO:tensorflow:global_step/sec: 723.468\n",
      "INFO:tensorflow:loss = 9.40253e-05, step = 105201 (0.138 sec)\n",
      "INFO:tensorflow:global_step/sec: 722.731\n",
      "INFO:tensorflow:loss = 9.51769e-05, step = 105301 (0.138 sec)\n",
      "INFO:tensorflow:global_step/sec: 714.392\n",
      "INFO:tensorflow:loss = 9.89483e-05, step = 105401 (0.140 sec)\n",
      "INFO:tensorflow:global_step/sec: 708.98\n",
      "INFO:tensorflow:loss = 0.000109651, step = 105501 (0.141 sec)\n",
      "INFO:tensorflow:global_step/sec: 705.738\n",
      "INFO:tensorflow:loss = 0.000105775, step = 105601 (0.142 sec)\n",
      "INFO:tensorflow:global_step/sec: 697.298\n",
      "INFO:tensorflow:loss = 9.00295e-05, step = 105701 (0.144 sec)\n",
      "INFO:tensorflow:global_step/sec: 702.784\n",
      "INFO:tensorflow:loss = 0.00010175, step = 105801 (0.141 sec)\n",
      "INFO:tensorflow:global_step/sec: 717.9\n",
      "INFO:tensorflow:loss = 0.000100821, step = 105901 (0.139 sec)\n",
      "INFO:tensorflow:global_step/sec: 710.431\n",
      "INFO:tensorflow:loss = 9.98929e-05, step = 106001 (0.143 sec)\n",
      "INFO:tensorflow:global_step/sec: 698.744\n",
      "INFO:tensorflow:loss = 0.000102258, step = 106101 (0.141 sec)\n",
      "INFO:tensorflow:global_step/sec: 720.23\n",
      "INFO:tensorflow:loss = 0.000115787, step = 106201 (0.139 sec)\n",
      "INFO:tensorflow:global_step/sec: 709.993\n",
      "INFO:tensorflow:loss = 0.000103275, step = 106301 (0.141 sec)\n",
      "INFO:tensorflow:global_step/sec: 707.35\n",
      "INFO:tensorflow:loss = 9.69285e-05, step = 106401 (0.141 sec)\n",
      "INFO:tensorflow:global_step/sec: 709.129\n",
      "INFO:tensorflow:loss = 9.64826e-05, step = 106501 (0.141 sec)\n",
      "INFO:tensorflow:global_step/sec: 709.455\n",
      "INFO:tensorflow:loss = 0.000104382, step = 106601 (0.141 sec)\n",
      "INFO:tensorflow:global_step/sec: 718.8\n",
      "INFO:tensorflow:loss = 9.59724e-05, step = 106701 (0.139 sec)\n",
      "INFO:tensorflow:global_step/sec: 711.683\n",
      "INFO:tensorflow:loss = 0.000100807, step = 106801 (0.140 sec)\n",
      "INFO:tensorflow:global_step/sec: 710.426\n",
      "INFO:tensorflow:loss = 9.57149e-05, step = 106901 (0.141 sec)\n",
      "INFO:tensorflow:global_step/sec: 708.664\n",
      "INFO:tensorflow:loss = 9.49812e-05, step = 107001 (0.167 sec)\n",
      "INFO:tensorflow:global_step/sec: 599.125\n",
      "INFO:tensorflow:loss = 9.05141e-05, step = 107101 (0.141 sec)\n",
      "INFO:tensorflow:global_step/sec: 709.701\n",
      "INFO:tensorflow:loss = 9.79529e-05, step = 107201 (0.141 sec)\n",
      "INFO:tensorflow:global_step/sec: 707.403\n",
      "INFO:tensorflow:loss = 7.94845e-05, step = 107301 (0.141 sec)\n",
      "INFO:tensorflow:global_step/sec: 720.493\n",
      "INFO:tensorflow:loss = 8.36257e-05, step = 107401 (0.139 sec)\n",
      "INFO:tensorflow:global_step/sec: 715.38\n",
      "INFO:tensorflow:loss = 9.49834e-05, step = 107501 (0.140 sec)\n",
      "INFO:tensorflow:global_step/sec: 714.999\n",
      "INFO:tensorflow:loss = 9.68032e-05, step = 107601 (0.140 sec)\n",
      "INFO:tensorflow:global_step/sec: 700.852\n",
      "INFO:tensorflow:loss = 9.00773e-05, step = 107701 (0.143 sec)\n",
      "INFO:tensorflow:global_step/sec: 705.226\n",
      "INFO:tensorflow:loss = 9.04774e-05, step = 107801 (0.142 sec)\n",
      "INFO:tensorflow:global_step/sec: 705.846\n",
      "INFO:tensorflow:loss = 8.97951e-05, step = 107901 (0.142 sec)\n",
      "INFO:tensorflow:global_step/sec: 708.219\n",
      "INFO:tensorflow:loss = 0.000102269, step = 108001 (0.144 sec)\n",
      "INFO:tensorflow:global_step/sec: 687.808\n",
      "INFO:tensorflow:loss = 9.45272e-05, step = 108101 (0.143 sec)\n",
      "INFO:tensorflow:global_step/sec: 420.634\n",
      "INFO:tensorflow:loss = 9.76892e-05, step = 108201 (0.238 sec)\n",
      "INFO:tensorflow:global_step/sec: 663.107\n",
      "INFO:tensorflow:loss = 9.92323e-05, step = 108301 (0.151 sec)\n",
      "INFO:tensorflow:global_step/sec: 697.416\n",
      "INFO:tensorflow:loss = 9.13872e-05, step = 108401 (0.144 sec)\n",
      "INFO:tensorflow:global_step/sec: 703.445\n",
      "INFO:tensorflow:loss = 8.68988e-05, step = 108501 (0.141 sec)\n",
      "INFO:tensorflow:global_step/sec: 711.123\n",
      "INFO:tensorflow:loss = 8.46691e-05, step = 108601 (0.141 sec)\n",
      "INFO:tensorflow:global_step/sec: 713.101\n",
      "INFO:tensorflow:loss = 0.000102976, step = 108701 (0.140 sec)\n",
      "INFO:tensorflow:global_step/sec: 719.489\n",
      "INFO:tensorflow:loss = 8.54544e-05, step = 108801 (0.139 sec)\n",
      "INFO:tensorflow:global_step/sec: 721.845\n",
      "INFO:tensorflow:loss = 9.09154e-05, step = 108901 (0.139 sec)\n",
      "INFO:tensorflow:global_step/sec: 733.661\n",
      "INFO:tensorflow:loss = 9.28185e-05, step = 109001 (0.199 sec)\n",
      "INFO:tensorflow:global_step/sec: 495.454\n",
      "INFO:tensorflow:loss = 9.5555e-05, step = 109101 (0.139 sec)\n",
      "INFO:tensorflow:global_step/sec: 704.278\n",
      "INFO:tensorflow:loss = 9.50305e-05, step = 109201 (0.142 sec)\n",
      "INFO:tensorflow:global_step/sec: 708.619\n",
      "INFO:tensorflow:loss = 8.95273e-05, step = 109301 (0.141 sec)\n",
      "INFO:tensorflow:global_step/sec: 715.15\n",
      "INFO:tensorflow:loss = 9.65992e-05, step = 109401 (0.140 sec)\n",
      "INFO:tensorflow:global_step/sec: 713.393\n",
      "INFO:tensorflow:loss = 8.73325e-05, step = 109501 (0.140 sec)\n",
      "INFO:tensorflow:global_step/sec: 699.27\n",
      "INFO:tensorflow:loss = 9.09076e-05, step = 109601 (0.144 sec)\n",
      "INFO:tensorflow:global_step/sec: 710.797\n",
      "INFO:tensorflow:loss = 9.84363e-05, step = 109701 (0.140 sec)\n",
      "INFO:tensorflow:global_step/sec: 717.856\n",
      "INFO:tensorflow:loss = 9.23262e-05, step = 109801 (0.139 sec)\n",
      "INFO:tensorflow:global_step/sec: 715.55\n",
      "INFO:tensorflow:loss = 9.09538e-05, step = 109901 (0.140 sec)\n",
      "INFO:tensorflow:Saving checkpoints for 110000 into ./ops_logs/sin/model.ckpt.\n",
      "INFO:tensorflow:Loss for final step: 8.34232e-05.\n"
     ]
    },
    {
     "data": {
      "text/plain": [
       "SKCompat()"
      ]
     },
     "execution_count": 6,
     "metadata": {},
     "output_type": "execute_result"
    }
   ],
   "source": [
    "regressor.fit(X['train'], y['train'], \n",
    "              monitors=[validation_monitor], \n",
    "              batch_size=BATCH_SIZE,\n",
    "              steps=TRAINING_STEPS)"
   ]
  },
  {
   "cell_type": "code",
   "execution_count": 7,
   "metadata": {},
   "outputs": [
    {
     "name": "stdout",
     "output_type": "stream",
     "text": [
      "WARNING:tensorflow:From /remote/us01home29/yuwang/anaconda3/lib/python3.6/site-packages/tensorflow/contrib/learn/python/learn/models.py:107: mean_squared_error_regressor (from tensorflow.contrib.learn.python.learn.ops.losses_ops) is deprecated and will be removed after 2016-12-01.\n",
      "Instructions for updating:\n",
      "Use `tf.contrib.losses.mean_squared_error` and explicit logits computation.\n",
      "WARNING:tensorflow:From /remote/us01home29/yuwang/anaconda3/lib/python3.6/site-packages/tensorflow/contrib/learn/python/learn/ops/losses_ops.py:39: mean_squared_error (from tensorflow.contrib.losses.python.losses.loss_ops) is deprecated and will be removed after 2016-12-30.\n",
      "Instructions for updating:\n",
      "Use tf.losses.mean_squared_error instead.\n",
      "WARNING:tensorflow:From /remote/us01home29/yuwang/anaconda3/lib/python3.6/site-packages/tensorflow/contrib/losses/python/losses/loss_ops.py:539: compute_weighted_loss (from tensorflow.contrib.losses.python.losses.loss_ops) is deprecated and will be removed after 2016-12-30.\n",
      "Instructions for updating:\n",
      "Use tf.losses.compute_weighted_loss instead.\n",
      "WARNING:tensorflow:From /remote/us01home29/yuwang/anaconda3/lib/python3.6/site-packages/tensorflow/contrib/losses/python/losses/loss_ops.py:151: add_arg_scope.<locals>.func_with_args (from tensorflow.contrib.framework.python.ops.arg_scope) is deprecated and will be removed after 2016-12-30.\n",
      "Instructions for updating:\n",
      "Use tf.losses.add_loss instead.\n",
      "INFO:tensorflow:Restoring parameters from ./ops_logs/sin/model.ckpt-110000\n",
      "MSE: 0.000096\n"
     ]
    }
   ],
   "source": [
    "predicted = regressor.predict(X['test'])\n",
    "rmse = np.sqrt(((predicted - y['test']) ** 2).mean(axis=0))\n",
    "score = mean_squared_error(predicted, y['test'])\n",
    "print (\"MSE: %f\" % score)"
   ]
  },
  {
   "cell_type": "code",
   "execution_count": 8,
   "metadata": {},
   "outputs": [
    {
     "data": {
      "text/plain": [
       "<matplotlib.legend.Legend at 0x7f5e88118978>"
      ]
     },
     "execution_count": 8,
     "metadata": {},
     "output_type": "execute_result"
    },
    {
     "data": {
      "image/png": "[encoded data removed]",
      "text/plain": [
       "<matplotlib.figure.Figure at 0x7f5ea2e1b828>"
      ]
     },
     "metadata": {},
     "output_type": "display_data"
    }
   ],
   "source": [
    "plot_predicted, = plt.plot(predicted, label='predicted', color=\"red\")\n",
    "plot_test, = plt.plot(y['test'], label='test',color=\"grey\")\n",
    "plt.legend(handles=[plot_predicted, plot_test])"
   ]
  },
  {
   "cell_type": "code",
   "execution_count": null,
   "metadata": {
    "collapsed": true
   },
   "outputs": [],
   "source": []
  },
  {
   "cell_type": "code",
   "execution_count": null,
   "metadata": {
    "collapsed": true
   },
   "outputs": [],
   "source": []
  }
 ],
 "metadata": {
  "kernelspec": {
   "display_name": "Python 3",
   "language": "python",
   "name": "python3"
  },
  "language_info": {
   "codemirror_mode": {
    "name": "ipython",
    "version": 3
   },
   "file_extension": ".py",
   "mimetype": "text/x-python",
   "name": "python",
   "nbconvert_exporter": "python",
   "pygments_lexer": "ipython3",
   "version": "3.6.1"
  }
 },
 "nbformat": 4,
 "nbformat_minor": 2
}
